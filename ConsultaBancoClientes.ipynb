{
  "nbformat": 4,
  "nbformat_minor": 0,
  "metadata": {
    "colab": {
      "provenance": [],
      "authorship_tag": "ABX9TyPc+mJmaUBR+ri48Qm2wQYF",
      "include_colab_link": true
    },
    "kernelspec": {
      "name": "python3",
      "display_name": "Python 3"
    },
    "language_info": {
      "name": "python"
    }
  },
  "cells": [
    {
      "cell_type": "markdown",
      "metadata": {
        "id": "view-in-github",
        "colab_type": "text"
      },
      "source": [
        "<a href=\"https://colab.research.google.com/github/amsoftmobile/ProjetoGemini/blob/main/ConsultaBancoClientes.ipynb\" target=\"_parent\"><img src=\"https://colab.research.google.com/assets/colab-badge.svg\" alt=\"Open In Colab\"/></a>"
      ]
    },
    {
      "cell_type": "code",
      "source": [
        "!pip install pymssql"
      ],
      "metadata": {
        "colab": {
          "base_uri": "https://localhost:8080/"
        },
        "id": "N6ftM3JlGOYQ",
        "outputId": "bdb59ee8-6fd4-4e5b-e7e2-cb39e624c963"
      },
      "execution_count": 2,
      "outputs": [
        {
          "output_type": "stream",
          "name": "stdout",
          "text": [
            "Collecting pymssql\n",
            "  Downloading pymssql-2.3.0-cp310-cp310-manylinux_2_28_x86_64.whl (4.6 MB)\n",
            "\u001b[2K     \u001b[90m━━━━━━━━━━━━━━━━━━━━━━━━━━━━━━━━━━━━━━━━\u001b[0m \u001b[32m4.6/4.6 MB\u001b[0m \u001b[31m31.8 MB/s\u001b[0m eta \u001b[36m0:00:00\u001b[0m\n",
            "\u001b[?25hInstalling collected packages: pymssql\n",
            "Successfully installed pymssql-2.3.0\n"
          ]
        }
      ]
    },
    {
      "cell_type": "code",
      "source": [
        "import pymssql\n",
        "\n",
        "# Informações de conexão\n",
        "server = 'incas.no-ip.net'\n",
        "database = 'incas'\n",
        "username = 'sa'\n",
        "password = 'menuauto'\n",
        "\n",
        "# Tentar conectar ao banco de dados\n",
        "try:\n",
        "    conn = pymssql.connect(server=server, user=username, password=password, database=database)\n",
        "    print(\"Conexão bem-sucedida!\")\n",
        "\n",
        "    # Criar um cursor para executar comandos SQL\n",
        "    cursor = conn.cursor()\n",
        "\n",
        "    # Exemplo de consulta\n",
        "    cursor.execute(\"SELECT * FROM CLIENTES\")\n",
        "    row = cursor.fetchone()\n",
        "    print(f\"Versão do servidor SQL: {row[0]}\")\n",
        "\n",
        "    # Fechar a conexão\n",
        "    conn.close()\n",
        "\n",
        "except Exception as e:\n",
        "    print(f\"Erro ao conectar ao banco de dados: {e}\")"
      ],
      "metadata": {
        "colab": {
          "base_uri": "https://localhost:8080/"
        },
        "id": "38e6uatLGRhj",
        "outputId": "72f93071-e59b-4b1c-fff9-f1627b56b67f"
      },
      "execution_count": 24,
      "outputs": [
        {
          "output_type": "stream",
          "name": "stdout",
          "text": [
            "Conexão bem-sucedida!\n",
            "Versão do servidor SQL: 0\n"
          ]
        }
      ]
    },
    {
      "cell_type": "code",
      "source": [
        "conn = pymssql.connect(server=server, user=username, password=password, database=database)\n",
        "cursor = conn.cursor()\n",
        "cursor.execute(\"\"\"SELECT TOP 20\n",
        "    c.CLIENTEID,\n",
        "    c.nome,\n",
        "    c.FANTASIA,\n",
        "    c.CPF_CNPJ,\n",
        "    c.LOGRADOURO,\n",
        "    c.NUMERO,\n",
        "    c.BAIRRO,\n",
        "    c.CEP,\n",
        "    c.TELEFONE,\n",
        "    cid.cidade,\n",
        "    cid.uf\n",
        "FROM\n",
        "    CLIENTES c\n",
        "LEFT JOIN\n",
        "    CIDADES cid ON (cid.CIDADEID = c.cidadeid)\"\"\")"
      ],
      "metadata": {
        "id": "gQGa8dgmN_X_"
      },
      "execution_count": 25,
      "outputs": []
    },
    {
      "cell_type": "code",
      "source": [
        "results = cursor.fetchall()"
      ],
      "metadata": {
        "id": "c_KArvtTQXLv"
      },
      "execution_count": 27,
      "outputs": []
    },
    {
      "cell_type": "code",
      "source": [
        "with open(\"/content/clientes.html\", \"w\") as f:\n",
        "    f.write(\"\"\"\n",
        "   <!DOCTYPE html>\n",
        "<html>\n",
        "<head>\n",
        "  <title>Consulta de Clientes</title>\n",
        "  <style>\n",
        "    table {\n",
        "      border-collapse: collapse;\n",
        "      width: 100%;\n",
        "    }\n",
        "\n",
        "    th, td {\n",
        "      border: 1px solid black;\n",
        "      padding: 5px;\n",
        "    }\n",
        "\n",
        "    tr:nth-child(even) {\n",
        "      background-color: #e0f2f1;\n",
        "    }\n",
        "  </style>\n",
        "</head>\n",
        "<body>\n",
        "  <h1>Consulta de Clientes</h1>\n",
        "  <table>\n",
        "    <thead>\n",
        "      <tr>\n",
        "        <th>CLIENTEID</th>\n",
        "        <th>Nome</th>\n",
        "        <th>Fantasia</th>\n",
        "        <th>CPF/CNPJ</th>\n",
        "        <th>Logradouro</th>\n",
        "        <th>Número</th>\n",
        "        <th>Bairro</th>\n",
        "        <th>CEP</th>\n",
        "        <th>Telefone</th>\n",
        "        <th>Cidade</th>\n",
        "        <th>UF</th>\n",
        "      </tr>\n",
        "    </thead>\n",
        "    <tbody>\n",
        "    \"\"\")\n",
        "\n",
        "    # Adicionando os dados da consulta ao arquivo HTML\n",
        "    for row in results:\n",
        "        f.write(f\"\"\"\n",
        "                <tr>\n",
        "                    <td>{row[0]}</td>\n",
        "                    <td>{row[1]}</td>\n",
        "                    <td>{row[2]}</td>\n",
        "                    <td>{row[3]}</td>\n",
        "                    <td>{row[4]}</td>\n",
        "                    <td>{row[5]}</td>\n",
        "                    <td>{row[6]}</td>\n",
        "                    <td>{row[7]}</td>\n",
        "                    <td>{row[8]}</td>\n",
        "                    <td>{row[9]}</td>\n",
        "                    <td>{row[10]}</td>\n",
        "                </tr>\n",
        "        \"\"\")\n",
        "\n",
        "    # Finalizando o arquivo HTML\n",
        "    f.write(\"\"\"\n",
        "             </tbody>\n",
        "  </table>\n",
        "\n",
        "</body>\n",
        "</html>\n",
        "    \"\"\")"
      ],
      "metadata": {
        "id": "GJXsdmoBQZ9r"
      },
      "execution_count": 28,
      "outputs": []
    },
    {
      "cell_type": "code",
      "source": [
        "cursor.close()\n",
        "conn.close()"
      ],
      "metadata": {
        "id": "pm62Y7tvQc0w"
      },
      "execution_count": 17,
      "outputs": []
    },
    {
      "cell_type": "code",
      "source": [],
      "metadata": {
        "id": "LjlexI2eTPcD"
      },
      "execution_count": null,
      "outputs": []
    }
  ]
}